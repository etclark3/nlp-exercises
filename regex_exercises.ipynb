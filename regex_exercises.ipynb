{
 "cells": [
  {
   "cell_type": "markdown",
   "id": "181629ed",
   "metadata": {},
   "source": [
    "#### 1. Write a function named is_vowel. It should accept a string as input and use a regular expression to determine if the passed string is a vowel. While not explicity mentioned in the lesson, you can treat the result of re.search as a boolean value that indicates whether or not the regular expression matches the given string.\n",
    "\n",
    "#### 2. Write a function named is_valid_username that accepts a string as input. A valid username starts with a lowercase letter, and only consists of lowercase letters, numbers, or the _ character. It should also be no longer than 32 characters. The function should return either True or False depending on whether the passed string is a valid username.\n",
    "> is_valid_username('aaaaaaaaaaaaaaaaaaaaaaaaaaaaaaaaa')<br>\n",
    "False<br>\n",
    "> is_valid_username('codeup')<br>\n",
    "True<br>\n",
    "> is_valid_username('Codeup')<br>\n",
    "False<br>\n",
    "> is_valid_username('codeup123')<br>\n",
    "True<br>\n",
    "> is_valid_username('1codeup')<br>\n",
    "False\n",
    "#### 3. Write a regular expression to capture phone numbers. It should match all of the following:\n",
    "(210) 867 5309<br>\n",
    "+1 210.867.5309<br>\n",
    "867-5309<br>\n",
    "210-867-5309\n",
    "#### 4. Use regular expressions to convert the dates below to the standardized year-month-day format.\n",
    "02/04/19<br>\n",
    "02/05/19<br>\n",
    "02/06/19<br>\n",
    "02/07/19<br>\n",
    "02/08/19<br>\n",
    "02/09/19<br>\n",
    "02/10/19\n",
    "#### 5. Write a regex to extract the various parts of these logfile lines:\n",
    "GET /api/v1/sales?page=86 [16/Apr/2019:193452+0000] HTTP/1.1 {200} 510348 \"python-requests/2.21.0\" 97.105.19.58<br>\n",
    "POST /users_accounts/file-upload [16/Apr/2019:193452+0000] HTTP/1.1 {201} 42 \"User-Agent: Mozilla/5.0 (X11; Fedora; Fedora; Linux x86_64) AppleWebKit/537.36 (KHTML, like Gecko) Chrome/73.0.3683.86 Safari/537.36\" 97.105.19.58<br>\n",
    "GET /api/v1/items?page=3 [16/Apr/2019:193453+0000] HTTP/1.1 {429} 3561 \"python-requests/2.21.0\" 97.105.19.58\n",
    "\n",
    "#### Bonus Exercises\n",
    "You can find a list of words on your mac at /usr/share/dict/words. Use this file to answer the following questions:\n",
    "- How many words have at least 3 vowels?\n",
    "- How many words have at least 3 vowels in a row?\n",
    "- How many words have at least 4 consonants in a row?\n",
    "- How many words start and end with the same letter?\n",
    "- How many words start and end with a vowel?\n",
    "- How many words contain the same letter 3 times in a row?\n",
    "- What other interesting patterns in words can you find?"
   ]
  },
  {
   "cell_type": "markdown",
   "id": "547f412f",
   "metadata": {},
   "source": [
    "## re.findall(regexp, subject)"
   ]
  },
  {
   "cell_type": "code",
   "execution_count": 1,
   "id": "081c9875",
   "metadata": {},
   "outputs": [],
   "source": [
    "import re"
   ]
  },
  {
   "cell_type": "markdown",
   "id": "15b46ce7",
   "metadata": {},
   "source": [
    "#### 1. Write a function named is_vowel. It should accept a string as input and use a regular expression to determine if the passed string is a vowel. While not explicity mentioned in the lesson, you can treat the result of re.search as a boolean value that indicates whether or not the regular expression matches the given string."
   ]
  },
  {
   "cell_type": "code",
   "execution_count": 2,
   "id": "952263ef",
   "metadata": {},
   "outputs": [],
   "source": [
    "def is_vowel(x):\n",
    "    # Set the parameters\n",
    "    regexp = r'^[aeiou]$'\n",
    "    \n",
    "    # Just in case there's whitespace\n",
    "    x = re.sub(r'\\s','',x)\n",
    "    if re.search(regexp, x, re.IGNORECASE):\n",
    "        return True\n",
    "    else:\n",
    "        return False"
   ]
  },
  {
   "cell_type": "code",
   "execution_count": 3,
   "id": "9782e02c",
   "metadata": {},
   "outputs": [
    {
     "data": {
      "text/plain": [
       "True"
      ]
     },
     "execution_count": 3,
     "metadata": {},
     "output_type": "execute_result"
    }
   ],
   "source": [
    "is_vowel('i')"
   ]
  },
  {
   "cell_type": "code",
   "execution_count": 4,
   "id": "727cc31c",
   "metadata": {},
   "outputs": [
    {
     "data": {
      "text/plain": [
       "True"
      ]
     },
     "execution_count": 4,
     "metadata": {},
     "output_type": "execute_result"
    }
   ],
   "source": [
    "is_vowel('E')"
   ]
  },
  {
   "cell_type": "code",
   "execution_count": 5,
   "id": "331d810f",
   "metadata": {},
   "outputs": [
    {
     "data": {
      "text/plain": [
       "False"
      ]
     },
     "execution_count": 5,
     "metadata": {},
     "output_type": "execute_result"
    }
   ],
   "source": [
    "is_vowel('oui')"
   ]
  },
  {
   "cell_type": "code",
   "execution_count": 6,
   "id": "8bfcdf6e",
   "metadata": {
    "scrolled": true
   },
   "outputs": [
    {
     "data": {
      "text/plain": [
       "False"
      ]
     },
     "execution_count": 6,
     "metadata": {},
     "output_type": "execute_result"
    }
   ],
   "source": [
    "is_vowel('chocolate')"
   ]
  },
  {
   "cell_type": "code",
   "execution_count": 7,
   "id": "ed83f7af",
   "metadata": {},
   "outputs": [
    {
     "data": {
      "text/plain": [
       "True"
      ]
     },
     "execution_count": 7,
     "metadata": {},
     "output_type": "execute_result"
    }
   ],
   "source": [
    "is_vowel('a ')"
   ]
  },
  {
   "cell_type": "markdown",
   "id": "416d788d",
   "metadata": {},
   "source": [
    "#### 2. Write a function named is_valid_username that accepts a string as input. A valid username starts with a lowercase letter, and only consists of lowercase letters, numbers, or the _ character. It should also be no longer than 32 characters. The function should return either True or False depending on whether the passed string is a valid username.\n",
    "> is_valid_username('aaaaaaaaaaaaaaaaaaaaaaaaaaaaaaaaa')<br>\n",
    "False<br>\n",
    "> is_valid_username('codeup')<br>\n",
    "True<br>\n",
    "> is_valid_username('Codeup')<br>\n",
    "False<br>\n",
    "> is_valid_username('codeup123')<br>\n",
    "True<br>\n",
    "> is_valid_username('1codeup')<br>\n",
    "False"
   ]
  },
  {
   "cell_type": "markdown",
   "id": "f14b4832",
   "metadata": {},
   "source": [
    "#### Pre-Review setup:\n",
    "def is_valid_username(string):<br>\n",
    "    if ddd:<br>\n",
    "        return True<br>\n",
    "    else aaa:<br>\n",
    "        return False\n",
    "    "
   ]
  },
  {
   "cell_type": "code",
   "execution_count": 8,
   "id": "34a1e2ad",
   "metadata": {},
   "outputs": [],
   "source": [
    "def is_valid_username(x):\n",
    "    regexp = r'^[a-z]\\w{,31}$'\n",
    "    \n",
    "    if re.search(regexp, x):\n",
    "        return True\n",
    "    else:\n",
    "        return False"
   ]
  },
  {
   "cell_type": "code",
   "execution_count": 9,
   "id": "b5a6381f",
   "metadata": {},
   "outputs": [
    {
     "data": {
      "text/plain": [
       "False"
      ]
     },
     "execution_count": 9,
     "metadata": {},
     "output_type": "execute_result"
    }
   ],
   "source": [
    "is_valid_username('aaaaaaaaaaaaaaaaaaaaaaaaaaaaaaaaa')"
   ]
  },
  {
   "cell_type": "code",
   "execution_count": 10,
   "id": "62bad158",
   "metadata": {},
   "outputs": [
    {
     "data": {
      "text/plain": [
       "True"
      ]
     },
     "execution_count": 10,
     "metadata": {},
     "output_type": "execute_result"
    }
   ],
   "source": [
    "is_valid_username('codeup')"
   ]
  },
  {
   "cell_type": "code",
   "execution_count": 11,
   "id": "20652562",
   "metadata": {},
   "outputs": [
    {
     "data": {
      "text/plain": [
       "False"
      ]
     },
     "execution_count": 11,
     "metadata": {},
     "output_type": "execute_result"
    }
   ],
   "source": [
    "is_valid_username('Codeup')"
   ]
  },
  {
   "cell_type": "code",
   "execution_count": 12,
   "id": "7a218ac1",
   "metadata": {},
   "outputs": [
    {
     "data": {
      "text/plain": [
       "True"
      ]
     },
     "execution_count": 12,
     "metadata": {},
     "output_type": "execute_result"
    }
   ],
   "source": [
    "is_valid_username('codeup123')"
   ]
  },
  {
   "cell_type": "code",
   "execution_count": 13,
   "id": "caab538a",
   "metadata": {},
   "outputs": [
    {
     "data": {
      "text/plain": [
       "False"
      ]
     },
     "execution_count": 13,
     "metadata": {},
     "output_type": "execute_result"
    }
   ],
   "source": [
    "is_valid_username('1codeup')"
   ]
  },
  {
   "cell_type": "markdown",
   "id": "473e759d",
   "metadata": {},
   "source": [
    "#### 3. Write a regular expression to capture phone numbers. It should match all of the following:\n",
    "(210) 867 5309<br>\n",
    "+1 210.867.5309<br>\n",
    "867-5309<br>\n",
    "210-867-5309"
   ]
  },
  {
   "cell_type": "code",
   "execution_count": 14,
   "id": "29aa1aea",
   "metadata": {},
   "outputs": [],
   "source": [
    "def is_phone_num(number):\n",
    "    regexp = r'.*?\\d+\\D*?\\d+.\\d+$'\n",
    "    if re.search(regexp, number):\n",
    "        print(f'{number} is a phone number')\n",
    "    else:\n",
    "        print(f\"{number} isn't a phone number\")"
   ]
  },
  {
   "cell_type": "code",
   "execution_count": 15,
   "id": "7633d4f5",
   "metadata": {},
   "outputs": [
    {
     "name": "stdout",
     "output_type": "stream",
     "text": [
      "(210) 867 5309 is a phone number\n"
     ]
    }
   ],
   "source": [
    "is_phone_num('(210) 867 5309')"
   ]
  },
  {
   "cell_type": "code",
   "execution_count": 16,
   "id": "d97c48c3",
   "metadata": {},
   "outputs": [
    {
     "name": "stdout",
     "output_type": "stream",
     "text": [
      "+1 210.867.5309 is a phone number\n"
     ]
    }
   ],
   "source": [
    "is_phone_num('+1 210.867.5309')"
   ]
  },
  {
   "cell_type": "code",
   "execution_count": 17,
   "id": "87149159",
   "metadata": {},
   "outputs": [
    {
     "name": "stdout",
     "output_type": "stream",
     "text": [
      "867-5309 is a phone number\n"
     ]
    }
   ],
   "source": [
    "is_phone_num('867-5309')"
   ]
  },
  {
   "cell_type": "code",
   "execution_count": 18,
   "id": "47a11379",
   "metadata": {},
   "outputs": [
    {
     "name": "stdout",
     "output_type": "stream",
     "text": [
      "210-867-5309 is a phone number\n"
     ]
    }
   ],
   "source": [
    "is_phone_num('210-867-5309')"
   ]
  },
  {
   "cell_type": "markdown",
   "id": "c23c5103",
   "metadata": {},
   "source": [
    "#### 4. Use regular expressions to convert the dates below to the standardized year-month-day format.\n",
    "02/04/19<br>\n",
    "02/05/19<br>\n",
    "02/06/19<br>\n",
    "02/07/19<br>\n",
    "02/08/19<br>\n",
    "02/09/19<br>\n",
    "02/10/19"
   ]
  },
  {
   "cell_type": "code",
   "execution_count": 19,
   "id": "effe2213",
   "metadata": {},
   "outputs": [],
   "source": [
    "def date_to_dash_format(date): \n",
    "    regexp = r'(\\d{2})/(\\d{2})/(\\d{2})'\n",
    "    print(re.sub(regexp, r'20\\3-\\1-\\2' ,date))"
   ]
  },
  {
   "cell_type": "code",
   "execution_count": 20,
   "id": "67ebe21f",
   "metadata": {},
   "outputs": [
    {
     "name": "stdout",
     "output_type": "stream",
     "text": [
      "2019-02-04\n"
     ]
    }
   ],
   "source": [
    "date_to_dash_format('02/04/19')"
   ]
  },
  {
   "cell_type": "code",
   "execution_count": 21,
   "id": "e05db937",
   "metadata": {},
   "outputs": [
    {
     "name": "stdout",
     "output_type": "stream",
     "text": [
      "2019-02-05\n"
     ]
    }
   ],
   "source": [
    "date_to_dash_format('02/05/19')"
   ]
  },
  {
   "cell_type": "code",
   "execution_count": 22,
   "id": "e557050f",
   "metadata": {},
   "outputs": [
    {
     "name": "stdout",
     "output_type": "stream",
     "text": [
      "2019-02-06\n"
     ]
    }
   ],
   "source": [
    "date_to_dash_format('02/06/19')"
   ]
  },
  {
   "cell_type": "code",
   "execution_count": 23,
   "id": "b4f61b3d",
   "metadata": {},
   "outputs": [
    {
     "name": "stdout",
     "output_type": "stream",
     "text": [
      "2019-02-07\n"
     ]
    }
   ],
   "source": [
    "date_to_dash_format('02/07/19')"
   ]
  },
  {
   "cell_type": "code",
   "execution_count": 24,
   "id": "71740bc9",
   "metadata": {},
   "outputs": [
    {
     "name": "stdout",
     "output_type": "stream",
     "text": [
      "2019-02-08\n"
     ]
    }
   ],
   "source": [
    "date_to_dash_format('02/08/19')"
   ]
  },
  {
   "cell_type": "code",
   "execution_count": 25,
   "id": "dfad5792",
   "metadata": {},
   "outputs": [
    {
     "name": "stdout",
     "output_type": "stream",
     "text": [
      "2019-02-09\n"
     ]
    }
   ],
   "source": [
    "date_to_dash_format('02/09/19')"
   ]
  },
  {
   "cell_type": "code",
   "execution_count": 26,
   "id": "294db5ac",
   "metadata": {
    "scrolled": true
   },
   "outputs": [
    {
     "name": "stdout",
     "output_type": "stream",
     "text": [
      "2019-02-10\n"
     ]
    }
   ],
   "source": [
    "date_to_dash_format('02/10/19')"
   ]
  },
  {
   "cell_type": "code",
   "execution_count": 27,
   "id": "f80b7ee1",
   "metadata": {},
   "outputs": [
    {
     "name": "stdout",
     "output_type": "stream",
     "text": [
      "02/10/2020\n"
     ]
    }
   ],
   "source": [
    "date = '02-10-2020'\n",
    "regexp = r'(\\d{2})-(\\d{2})-(\\d{2})'\n",
    "print(re.sub(regexp, r'\\1/\\2/\\3', date))"
   ]
  },
  {
   "cell_type": "code",
   "execution_count": 28,
   "id": "e9cefb54",
   "metadata": {},
   "outputs": [
    {
     "name": "stdout",
     "output_type": "stream",
     "text": [
      "2020/02/10\n"
     ]
    }
   ],
   "source": [
    "date = '2020-02-10'\n",
    "regexp = r'(\\d{2})-(\\d{2})-(\\d{2})'\n",
    "print(re.sub(regexp, r'\\1/\\2/\\3', date))"
   ]
  },
  {
   "cell_type": "code",
   "execution_count": 29,
   "id": "d10a7bb1",
   "metadata": {},
   "outputs": [],
   "source": [
    "def dash_to_slash_format(date):\n",
    "    '''aaa'''\n",
    "    # \n",
    "    regexp = r'(\\d{2})-(\\d{2})-(\\d{2})'\n",
    "    print(re.sub(regexp, r'\\1/\\2/\\3', date))"
   ]
  },
  {
   "cell_type": "code",
   "execution_count": 30,
   "id": "bb81fb36",
   "metadata": {},
   "outputs": [
    {
     "name": "stdout",
     "output_type": "stream",
     "text": [
      "02/10/2020\n"
     ]
    }
   ],
   "source": [
    "dash_to_slash_format('02-10-2020')"
   ]
  },
  {
   "cell_type": "markdown",
   "id": "332d82ef",
   "metadata": {},
   "source": [
    "#### 5. Write a regex to extract the various parts of these logfile lines:"
   ]
  },
  {
   "cell_type": "markdown",
   "id": "33f69644",
   "metadata": {},
   "source": [
    "GET /api/v1/sales?page=86 [16/Apr/2019:193452+0000] HTTP/1.1 {200} 510348 \"python-requests/2.21.0\" 97.105.19.58<br>\n",
    "POST /users_accounts/file-upload [16/Apr/2019:193452+0000] HTTP/1.1 {201} 42 \"User-Agent: Mozilla/5.0 (X11; Fedora; Fedora; Linux x86_64) AppleWebKit/537.36 (KHTML, like Gecko) Chrome/73.0.3683.86 Safari/537.36\" 97.105.19.58<br>\n",
    "GET /api/v1/items?page=3 [16/Apr/2019:193453+0000] HTTP/1.1 {429} 3561 \"python-requests/2.21.0\" 97.105.19.58"
   ]
  },
  {
   "cell_type": "code",
   "execution_count": 31,
   "id": "fa0d618a",
   "metadata": {},
   "outputs": [],
   "source": [
    "logs = ['GET /api/v1/sales?page=86 [16/Apr/2019:193452+0000] HTTP/1.1 {200} 510348 \"python-requests/2.21.0\" 97.105.19.58',\n",
    "'POST /users_accounts/file-upload [16/Apr/2019:193452+0000] HTTP/1.1 {201} 42 \"User-Agent: Mozilla/5.0 (X11; Fedora; Fedora; Linux x86_64) AppleWebKit/537.36 (KHTML, like Gecko) Chrome/73.0.3683.86 Safari/537.36\" 97.105.19.58',\n",
    "'GET /api/v1/items?page=3 [16/Apr/2019:193453+0000] HTTP/1.1 {429} 3561 \"python-requests/2.21.0\" 97.105.19.58']"
   ]
  },
  {
   "cell_type": "code",
   "execution_count": 32,
   "id": "8292a2c9",
   "metadata": {},
   "outputs": [
    {
     "data": {
      "text/plain": [
       "'GET /api/v1/sales?page=86 [16/Apr/2019:193452+0000] HTTP/1.1 {200} 510348 \"python-requests/2.21.0\" 97.105.19.58'"
      ]
     },
     "execution_count": 32,
     "metadata": {},
     "output_type": "execute_result"
    }
   ],
   "source": [
    "logs[0]"
   ]
  },
  {
   "cell_type": "code",
   "execution_count": 38,
   "id": "0f1d0079",
   "metadata": {},
   "outputs": [
    {
     "ename": "SyntaxError",
     "evalue": "EOL while scanning string literal (1827947569.py, line 1)",
     "output_type": "error",
     "traceback": [
      "\u001b[0;36m  Input \u001b[0;32mIn [38]\u001b[0;36m\u001b[0m\n\u001b[0;31m    re.findall(r'(\\w+)\\s\u001b[0m\n\u001b[0m                        ^\u001b[0m\n\u001b[0;31mSyntaxError\u001b[0m\u001b[0;31m:\u001b[0m EOL while scanning string literal\n"
     ]
    }
   ],
   "source": [
    "re.findall(r'(\\w+)\\s\n",
    "          (.*)\\s\\\n",
    "          [(.*)\\s\n",
    "          ()\\s\n",
    "          ()\\s\n",
    "          ()\\s\n",
    "          ()\\s\n",
    "          (.*)', logs[0])"
   ]
  },
  {
   "cell_type": "code",
   "execution_count": 35,
   "id": "d560f765",
   "metadata": {},
   "outputs": [
    {
     "data": {
      "text/plain": [
       "'POST /users_accounts/file-upload [16/Apr/2019:193452+0000] HTTP/1.1 {201} 42 \"User-Agent: Mozilla/5.0 (X11; Fedora; Fedora; Linux x86_64) AppleWebKit/537.36 (KHTML, like Gecko) Chrome/73.0.3683.86 Safari/537.36\" 97.105.19.58'"
      ]
     },
     "execution_count": 35,
     "metadata": {},
     "output_type": "execute_result"
    }
   ],
   "source": [
    "logs[1]"
   ]
  },
  {
   "cell_type": "code",
   "execution_count": 39,
   "id": "409a9246",
   "metadata": {},
   "outputs": [
    {
     "data": {
      "text/plain": [
       "[]"
      ]
     },
     "execution_count": 39,
     "metadata": {},
     "output_type": "execute_result"
    }
   ],
   "source": [
    "re.findall(regexp, logs[1])"
   ]
  },
  {
   "cell_type": "code",
   "execution_count": 40,
   "id": "ba69a387",
   "metadata": {},
   "outputs": [
    {
     "data": {
      "text/plain": [
       "'GET /api/v1/items?page=3 [16/Apr/2019:193453+0000] HTTP/1.1 {429} 3561 \"python-requests/2.21.0\" 97.105.19.58'"
      ]
     },
     "execution_count": 40,
     "metadata": {},
     "output_type": "execute_result"
    }
   ],
   "source": [
    "logs[2]"
   ]
  },
  {
   "cell_type": "code",
   "execution_count": 41,
   "id": "5e7ed068",
   "metadata": {},
   "outputs": [
    {
     "data": {
      "text/plain": [
       "[]"
      ]
     },
     "execution_count": 41,
     "metadata": {},
     "output_type": "execute_result"
    }
   ],
   "source": [
    "re.findall(regexp, logs[2])"
   ]
  },
  {
   "cell_type": "markdown",
   "id": "220d8f75",
   "metadata": {},
   "source": [
    "---"
   ]
  },
  {
   "cell_type": "markdown",
   "id": "57214962",
   "metadata": {},
   "source": [
    "#### Bonus Exercises\n",
    "You can find a list of words on your mac at /usr/share/dict/words. Use this file to answer the following questions:\n",
    "- How many words have at least 3 vowels?\n",
    "- How many words have at least 3 vowels in a row?\n",
    "- How many words have at least 4 consonants in a row?\n",
    "- How many words start and end with the same letter?\n",
    "- How many words start and end with a vowel?\n",
    "- How many words contain the same letter 3 times in a row?\n",
    "- What other interesting patterns in words can you find?"
   ]
  },
  {
   "cell_type": "code",
   "execution_count": 42,
   "id": "b2372860",
   "metadata": {},
   "outputs": [
    {
     "name": "stdout",
     "output_type": "stream",
     "text": [
      "06/30/2018\n"
     ]
    }
   ],
   "source": [
    "s = '06.30.2018'\n",
    "regexp = r'(\\d{2}).(\\d{2}).(\\d{2})'\n",
    "print(re.sub(regexp, r'\\1/\\2/\\3', s))"
   ]
  },
  {
   "cell_type": "code",
   "execution_count": null,
   "id": "e1475bbc",
   "metadata": {},
   "outputs": [],
   "source": []
  }
 ],
 "metadata": {
  "kernelspec": {
   "display_name": "Python 3 (ipykernel)",
   "language": "python",
   "name": "python3"
  },
  "language_info": {
   "codemirror_mode": {
    "name": "ipython",
    "version": 3
   },
   "file_extension": ".py",
   "mimetype": "text/x-python",
   "name": "python",
   "nbconvert_exporter": "python",
   "pygments_lexer": "ipython3",
   "version": "3.9.12"
  }
 },
 "nbformat": 4,
 "nbformat_minor": 5
}

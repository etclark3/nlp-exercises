{
 "cells": [
  {
   "cell_type": "code",
   "execution_count": 1,
   "id": "d562f014",
   "metadata": {
    "scrolled": true
   },
   "outputs": [],
   "source": [
    "#nltk.download('all')"
   ]
  },
  {
   "cell_type": "code",
   "execution_count": 2,
   "id": "b1becbfd",
   "metadata": {},
   "outputs": [],
   "source": [
    "import re\n",
    "import unicodedata\n",
    "# unicodedata.normalize('NFKD', article)\\\n",
    "# .encode('ascii', 'ignore')\\\n",
    "# .decode('utf-8')\n",
    "import nltk\n",
    "# tokenize = nltk.tokenize.ToktokTokenizer()\n",
    "# tokenize.tokenize(article, return_str=True)\n",
    "# ps = nltk.porter.PorterStemmer()\n",
    "# ps.stem('')\n",
    "# wnl = nltk.stem.WordNetLemmatizer()\n",
    "# wnl.lemmatize('')\n",
    "from nltk.corpus import stopwords\n",
    "# stopwords_list = stopwords.words('english')\n",
    "from wrangle import *"
   ]
  },
  {
   "cell_type": "markdown",
   "id": "6778abe6",
   "metadata": {},
   "source": [
    "### Exercises\n",
    "The end result of this exercise should be a file named prepare.py that defines the requested functions.\n",
    "\n",
    "In this exercise we will be defining some functions to prepare textual data. These functions should apply equally well to both the codeup blog articles and the news articles that were previously acquired.\n",
    "\n",
    "###### 1. Define a function named basic_clean. It should take in a string and apply some basic text cleaning to it:\n",
    "- Lowercase everything\n",
    "- Normalize unicode characters\n",
    "- Replace anything that is not a letter, number, whitespace or a single quote.\n",
    "\n",
    "###### 2. Define a function named tokenize. It should take in a string and tokenize all the words in the string.\n",
    "\n",
    "###### 3. Define a function named stem. It should accept some text and return the text after applying stemming to all the words.\n",
    "\n",
    "###### 4. Define a function named lemmatize. It should accept some text and return the text after applying lemmatization to each word.\n",
    "\n",
    "###### 5. Define a function named remove_stopwords. It should accept some text and return the text after removing all the stopwords.\n",
    "- This function should define two optional parameters, extra_words and exclude_words. These parameters should define any additional stop words to include, and any words that we don't want to remove.\n",
    "\n",
    "###### 6. Use your data from the acquire to produce a dataframe of the news articles. Name the dataframe news_df.\n",
    "\n",
    "###### 7. Make another dataframe for the Codeup blog posts. Name the dataframe codeup_df.\n",
    "\n",
    "###### 8. For each dataframe, produce the following columns:\n",
    "- title to hold the title\n",
    "- original to hold the original article/post content\n",
    "- clean to hold the normalized and tokenized original with the stopwords removed.\n",
    "- stemmed to hold the stemmed version of the cleaned data.\n",
    "- lemmatized to hold the lemmatized version of the cleaned data.\n",
    "\n",
    "###### 9. Ask yourself:\n",
    "- If your corpus is 493KB, would you prefer to use stemmed or lemmatized text?\n",
    "- If your corpus is 25MB, would you prefer to use stemmed or lemmatized text?\n",
    "- If your corpus is 200TB of text and you're charged by the megabyte for your hosted computational resources, would you prefer to use stemmed or lemmatized text?"
   ]
  },
  {
   "cell_type": "markdown",
   "id": "981fe60d",
   "metadata": {},
   "source": [
    "---"
   ]
  },
  {
   "cell_type": "markdown",
   "id": "d2fa7dae",
   "metadata": {},
   "source": [
    "###### 1. Define a function named basic_clean. It should take in a string and apply some basic text cleaning to it:\n",
    "- Lowercase everything\n",
    "- Normalize unicode characters\n",
    "- Replace anything that is not a letter, number, whitespace or a single quote."
   ]
  },
  {
   "cell_type": "code",
   "execution_count": 3,
   "id": "8b7a0cc4",
   "metadata": {},
   "outputs": [],
   "source": [
    "s = \"I went to the park to play and loved sitting on the swings... we you ours\""
   ]
  },
  {
   "cell_type": "code",
   "execution_count": 4,
   "id": "c216b6cf",
   "metadata": {},
   "outputs": [
    {
     "data": {
      "text/plain": [
       "'i went to the park to play and loved sitting on the swings... we you ours'"
      ]
     },
     "execution_count": 4,
     "metadata": {},
     "output_type": "execute_result"
    }
   ],
   "source": [
    "s = s.lower()\n",
    "s"
   ]
  },
  {
   "cell_type": "code",
   "execution_count": 5,
   "id": "01a31c4a",
   "metadata": {},
   "outputs": [
    {
     "data": {
      "text/plain": [
       "'i went to the park to play and loved sitting on the swings... we you ours'"
      ]
     },
     "execution_count": 5,
     "metadata": {},
     "output_type": "execute_result"
    }
   ],
   "source": [
    "unicodedata.normalize('NFKD', s).encode('ascii', 'ignore').decode('utf-8')"
   ]
  },
  {
   "cell_type": "code",
   "execution_count": 6,
   "id": "2a6a03d2",
   "metadata": {
    "scrolled": true
   },
   "outputs": [
    {
     "data": {
      "text/plain": [
       "'i went to the park to play and loved sitting on the swings we you ours'"
      ]
     },
     "execution_count": 6,
     "metadata": {},
     "output_type": "execute_result"
    }
   ],
   "source": [
    "re.sub(r'[^a-z0-9\\'\\s]', '', s)"
   ]
  },
  {
   "cell_type": "code",
   "execution_count": 7,
   "id": "7bd2f7d2",
   "metadata": {},
   "outputs": [],
   "source": [
    "def basic_clean(string):\n",
    "\n",
    "    string = string.lower()\n",
    "    string = unicodedata.normalize('NFKD', string).encode('ascii', 'ignore').decode('utf-8')\n",
    "    string = re.sub(r'[^a-z0-9\\'\\s]', '', string)\n",
    "    return string"
   ]
  },
  {
   "cell_type": "code",
   "execution_count": 8,
   "id": "a184d784",
   "metadata": {},
   "outputs": [],
   "source": [
    "s = basic_clean(s)"
   ]
  },
  {
   "cell_type": "code",
   "execution_count": 9,
   "id": "be8d325e",
   "metadata": {},
   "outputs": [
    {
     "data": {
      "text/plain": [
       "'i went to the park to play and loved sitting on the swings we you ours'"
      ]
     },
     "execution_count": 9,
     "metadata": {},
     "output_type": "execute_result"
    }
   ],
   "source": [
    "s"
   ]
  },
  {
   "cell_type": "markdown",
   "id": "c11911b9",
   "metadata": {},
   "source": [
    "###### 2. Define a function named tokenize. It should take in a string and tokenize all the words in the string."
   ]
  },
  {
   "cell_type": "code",
   "execution_count": 10,
   "id": "fc087ccf",
   "metadata": {},
   "outputs": [],
   "source": [
    "tokenize = nltk.tokenize.ToktokTokenizer()"
   ]
  },
  {
   "cell_type": "code",
   "execution_count": 11,
   "id": "6e2c7b92",
   "metadata": {
    "scrolled": true
   },
   "outputs": [
    {
     "data": {
      "text/plain": [
       "'i went to the park to play and loved sitting on the swings we you ours'"
      ]
     },
     "execution_count": 11,
     "metadata": {},
     "output_type": "execute_result"
    }
   ],
   "source": [
    "tokenize.tokenize(s, return_str=True)"
   ]
  },
  {
   "cell_type": "code",
   "execution_count": 12,
   "id": "91bea909",
   "metadata": {
    "scrolled": true
   },
   "outputs": [
    {
     "data": {
      "text/plain": [
       "'i went to the park to play and loved sitting on the swings we you ours'"
      ]
     },
     "execution_count": 12,
     "metadata": {},
     "output_type": "execute_result"
    }
   ],
   "source": [
    "nltk.tokenize.ToktokTokenizer().tokenize(s, return_str=True)"
   ]
  },
  {
   "cell_type": "code",
   "execution_count": 13,
   "id": "d3ad74e4",
   "metadata": {},
   "outputs": [],
   "source": [
    "def tokenize(string):\n",
    "    string = nltk.tokenize.ToktokTokenizer().tokenize(string, return_str=True)\n",
    "    return string"
   ]
  },
  {
   "cell_type": "code",
   "execution_count": 14,
   "id": "2cc8133a",
   "metadata": {},
   "outputs": [],
   "source": [
    "s = tokenize(s)"
   ]
  },
  {
   "cell_type": "markdown",
   "id": "582ae825",
   "metadata": {},
   "source": [
    "###### 3. Define a function named stem. It should accept some text and return the text after applying stemming to all the words."
   ]
  },
  {
   "cell_type": "code",
   "execution_count": 15,
   "id": "55f32a9d",
   "metadata": {},
   "outputs": [],
   "source": [
    "def stem(text):\n",
    "    # nltk.porter.PorterStemmer().stem(text)\n",
    "    stems = [nltk.porter.PorterStemmer().stem(word) for word in text.split()]\n",
    "    stemmed_text = ' '.join(stems)\n",
    "    return stemmed_text"
   ]
  },
  {
   "cell_type": "code",
   "execution_count": 16,
   "id": "2a4f0801",
   "metadata": {},
   "outputs": [
    {
     "data": {
      "text/plain": [
       "'i went to the park to play and love sit on the swing we you our'"
      ]
     },
     "execution_count": 16,
     "metadata": {},
     "output_type": "execute_result"
    }
   ],
   "source": [
    "stem(s)"
   ]
  },
  {
   "cell_type": "markdown",
   "id": "ec901f8f",
   "metadata": {},
   "source": [
    "###### 4. Define a function named lemmatize. It should accept some text and return the text after applying lemmatization to each word."
   ]
  },
  {
   "cell_type": "code",
   "execution_count": 17,
   "id": "99ab6039",
   "metadata": {},
   "outputs": [],
   "source": [
    "def lemmatize(text):\n",
    "    #Lemmatizer\n",
    "    lemans = [nltk.stem.WordNetLemmatizer().lemmatize(word) for word in text.split()]\n",
    "    lemmed_text = ' '.join(lemans)\n",
    "    return lemmed_text"
   ]
  },
  {
   "cell_type": "code",
   "execution_count": 18,
   "id": "41ab8d96",
   "metadata": {},
   "outputs": [
    {
     "data": {
      "text/plain": [
       "'i went to the park to play and loved sitting on the swing we you ours'"
      ]
     },
     "execution_count": 18,
     "metadata": {},
     "output_type": "execute_result"
    }
   ],
   "source": [
    "lemmatize(s)"
   ]
  },
  {
   "cell_type": "markdown",
   "id": "894caa76",
   "metadata": {},
   "source": [
    "###### 5. Define a function named remove_stopwords. It should accept some text and return the text after removing all the stopwords.\n",
    "- This function should define two optional parameters, extra_words and exclude_words. These parameters should define any additional stop words to include, and any words that we don't want to remove."
   ]
  },
  {
   "cell_type": "code",
   "execution_count": 19,
   "id": "579ae4e1",
   "metadata": {},
   "outputs": [
    {
     "data": {
      "text/plain": [
       "['me', 'my', 'myself', 'we', 'our', 'ours', 'ourselves', 'you', \"you're\"]"
      ]
     },
     "execution_count": 19,
     "metadata": {},
     "output_type": "execute_result"
    }
   ],
   "source": [
    "stopwords_list = stopwords.words('english')\n",
    "stopwords_list[1:10]"
   ]
  },
  {
   "cell_type": "code",
   "execution_count": 20,
   "id": "ad8c490e",
   "metadata": {},
   "outputs": [],
   "source": [
    "def remove_stopwords(text, extra_words, exclude_words):\n",
    "    from nltk.corpus import stopwords\n",
    "    stopwords_list = stopwords.words('english')\n",
    "    stopwords_list.remove(exclude_words)\n",
    "    stopwords_list.append(extra_words)\n",
    "    text = [word for word in text.split() if word not in stopwords_list]\n",
    "    text = ' '.join(text)\n",
    "    return text"
   ]
  },
  {
   "cell_type": "code",
   "execution_count": 21,
   "id": "62fd16f9",
   "metadata": {},
   "outputs": [
    {
     "data": {
      "text/plain": [
       "'i went to the park to play and loved sitting on the swings we you ours'"
      ]
     },
     "execution_count": 21,
     "metadata": {},
     "output_type": "execute_result"
    }
   ],
   "source": [
    "s"
   ]
  },
  {
   "cell_type": "code",
   "execution_count": 22,
   "id": "2b8c08ab",
   "metadata": {},
   "outputs": [
    {
     "data": {
      "text/plain": [
       "'went park play loved sitting swings you'"
      ]
     },
     "execution_count": 22,
     "metadata": {},
     "output_type": "execute_result"
    }
   ],
   "source": [
    "remove_stopwords(s, '', 'you')"
   ]
  },
  {
   "cell_type": "markdown",
   "id": "97bed908",
   "metadata": {},
   "source": [
    "###### 6. Use your data from the acquire to produce a dataframe of the news articles. Name the dataframe news_df."
   ]
  },
  {
   "cell_type": "code",
   "execution_count": 23,
   "id": "03d77961",
   "metadata": {},
   "outputs": [
    {
     "data": {
      "text/html": [
       "<div>\n",
       "<style scoped>\n",
       "    .dataframe tbody tr th:only-of-type {\n",
       "        vertical-align: middle;\n",
       "    }\n",
       "\n",
       "    .dataframe tbody tr th {\n",
       "        vertical-align: top;\n",
       "    }\n",
       "\n",
       "    .dataframe thead th {\n",
       "        text-align: right;\n",
       "    }\n",
       "</style>\n",
       "<table border=\"1\" class=\"dataframe\">\n",
       "  <thead>\n",
       "    <tr style=\"text-align: right;\">\n",
       "      <th></th>\n",
       "      <th>title</th>\n",
       "      <th>content</th>\n",
       "      <th>category</th>\n",
       "    </tr>\n",
       "  </thead>\n",
       "  <tbody>\n",
       "    <tr>\n",
       "      <th>0</th>\n",
       "      <td>Begin your revolutionary 5G journey with Airte...</td>\n",
       "      <td>Airtel announced that its 5G Plus services wil...</td>\n",
       "      <td>technology</td>\n",
       "    </tr>\n",
       "    <tr>\n",
       "      <th>1</th>\n",
       "      <td>WhatsApp services restored partially in some c...</td>\n",
       "      <td>Partial restoration of WhatsApp services appea...</td>\n",
       "      <td>technology</td>\n",
       "    </tr>\n",
       "    <tr>\n",
       "      <th>2</th>\n",
       "      <td>WhatsApp down for several users in India</td>\n",
       "      <td>Services of Meta-owned WhatsApp are reported t...</td>\n",
       "      <td>technology</td>\n",
       "    </tr>\n",
       "    <tr>\n",
       "      <th>3</th>\n",
       "      <td>Google fined ₹936 crore in India for anti-comp...</td>\n",
       "      <td>The Competition Commission of India (CCI) on T...</td>\n",
       "      <td>technology</td>\n",
       "    </tr>\n",
       "    <tr>\n",
       "      <th>4</th>\n",
       "      <td>Google CEO Pichai celebrates India's win over ...</td>\n",
       "      <td>Google and Alphabet's CEO Sundar Pichai on Mon...</td>\n",
       "      <td>technology</td>\n",
       "    </tr>\n",
       "    <tr>\n",
       "      <th>...</th>\n",
       "      <td>...</td>\n",
       "      <td>...</td>\n",
       "      <td>...</td>\n",
       "    </tr>\n",
       "    <tr>\n",
       "      <th>95</th>\n",
       "      <td>2 BJP leaders quit, file papers as independent...</td>\n",
       "      <td>BJP leaders Vipin Naihariya and Anil Choudhry ...</td>\n",
       "      <td>politics</td>\n",
       "    </tr>\n",
       "    <tr>\n",
       "      <th>96</th>\n",
       "      <td>K'taka government approves 11 projects to gene...</td>\n",
       "      <td>The Karnataka government has approved 11 devel...</td>\n",
       "      <td>politics</td>\n",
       "    </tr>\n",
       "    <tr>\n",
       "      <th>97</th>\n",
       "      <td>Acting as tool of RSS: Kerala CM on Guv seekin...</td>\n",
       "      <td>After Kerala Governor Arif Mohammed Khan sough...</td>\n",
       "      <td>politics</td>\n",
       "    </tr>\n",
       "    <tr>\n",
       "      <th>98</th>\n",
       "      <td>TMC leader shot inside Kali Puja pandal in Wes...</td>\n",
       "      <td>TMC youth leader Raj Pandey was shot by unknow...</td>\n",
       "      <td>politics</td>\n",
       "    </tr>\n",
       "    <tr>\n",
       "      <th>99</th>\n",
       "      <td>Farmers affected due to excessive rains to be ...</td>\n",
       "      <td>Maharashtra CM Eknath Shinde said he has given...</td>\n",
       "      <td>politics</td>\n",
       "    </tr>\n",
       "  </tbody>\n",
       "</table>\n",
       "<p>100 rows × 3 columns</p>\n",
       "</div>"
      ],
      "text/plain": [
       "                                                title  \\\n",
       "0   Begin your revolutionary 5G journey with Airte...   \n",
       "1   WhatsApp services restored partially in some c...   \n",
       "2            WhatsApp down for several users in India   \n",
       "3   Google fined ₹936 crore in India for anti-comp...   \n",
       "4   Google CEO Pichai celebrates India's win over ...   \n",
       "..                                                ...   \n",
       "95  2 BJP leaders quit, file papers as independent...   \n",
       "96  K'taka government approves 11 projects to gene...   \n",
       "97  Acting as tool of RSS: Kerala CM on Guv seekin...   \n",
       "98  TMC leader shot inside Kali Puja pandal in Wes...   \n",
       "99  Farmers affected due to excessive rains to be ...   \n",
       "\n",
       "                                              content    category  \n",
       "0   Airtel announced that its 5G Plus services wil...  technology  \n",
       "1   Partial restoration of WhatsApp services appea...  technology  \n",
       "2   Services of Meta-owned WhatsApp are reported t...  technology  \n",
       "3   The Competition Commission of India (CCI) on T...  technology  \n",
       "4   Google and Alphabet's CEO Sundar Pichai on Mon...  technology  \n",
       "..                                                ...         ...  \n",
       "95  BJP leaders Vipin Naihariya and Anil Choudhry ...    politics  \n",
       "96  The Karnataka government has approved 11 devel...    politics  \n",
       "97  After Kerala Governor Arif Mohammed Khan sough...    politics  \n",
       "98  TMC youth leader Raj Pandey was shot by unknow...    politics  \n",
       "99  Maharashtra CM Eknath Shinde said he has given...    politics  \n",
       "\n",
       "[100 rows x 3 columns]"
      ]
     },
     "execution_count": 23,
     "metadata": {},
     "output_type": "execute_result"
    }
   ],
   "source": [
    "news_df = wrangle.get_news_articles()\n",
    "news_df"
   ]
  },
  {
   "cell_type": "markdown",
   "id": "b10d1ee4",
   "metadata": {},
   "source": [
    "###### 7. Make another dataframe for the Codeup blog posts. Name the dataframe codeup_df."
   ]
  },
  {
   "cell_type": "code",
   "execution_count": 24,
   "id": "15255a01",
   "metadata": {},
   "outputs": [
    {
     "data": {
      "text/html": [
       "<div>\n",
       "<style scoped>\n",
       "    .dataframe tbody tr th:only-of-type {\n",
       "        vertical-align: middle;\n",
       "    }\n",
       "\n",
       "    .dataframe tbody tr th {\n",
       "        vertical-align: top;\n",
       "    }\n",
       "\n",
       "    .dataframe thead th {\n",
       "        text-align: right;\n",
       "    }\n",
       "</style>\n",
       "<table border=\"1\" class=\"dataframe\">\n",
       "  <thead>\n",
       "    <tr style=\"text-align: right;\">\n",
       "      <th></th>\n",
       "      <th>title</th>\n",
       "      <th>content</th>\n",
       "    </tr>\n",
       "  </thead>\n",
       "  <tbody>\n",
       "    <tr>\n",
       "      <th>0</th>\n",
       "      <td>Why Should You Learn to Code?</td>\n",
       "      <td>Many do not realize that learning to code is m...</td>\n",
       "    </tr>\n",
       "    <tr>\n",
       "      <th>1</th>\n",
       "      <td>Coding Bootcamp or Computer Science Degree?</td>\n",
       "      <td>For many people, deciding between a coding boo...</td>\n",
       "    </tr>\n",
       "    <tr>\n",
       "      <th>2</th>\n",
       "      <td>Diversity Equity and Inclusion Report</td>\n",
       "      <td>Codeup is excited to launch our first Diversit...</td>\n",
       "    </tr>\n",
       "    <tr>\n",
       "      <th>3</th>\n",
       "      <td>Codeup Honored as SABJ Diversity and Inclusion...</td>\n",
       "      <td>Codeup has been named the 2022 Diversity and I...</td>\n",
       "    </tr>\n",
       "    <tr>\n",
       "      <th>4</th>\n",
       "      <td>How Can I Finance My Career Transition?</td>\n",
       "      <td>Deciding to transition into a tech career is a...</td>\n",
       "    </tr>\n",
       "    <tr>\n",
       "      <th>5</th>\n",
       "      <td>Tips for Women Beginning a Career in Tech</td>\n",
       "      <td>Codeup strongly values diversity, and inclusio...</td>\n",
       "    </tr>\n",
       "  </tbody>\n",
       "</table>\n",
       "</div>"
      ],
      "text/plain": [
       "                                               title  \\\n",
       "0                      Why Should You Learn to Code?   \n",
       "1        Coding Bootcamp or Computer Science Degree?   \n",
       "2              Diversity Equity and Inclusion Report   \n",
       "3  Codeup Honored as SABJ Diversity and Inclusion...   \n",
       "4            How Can I Finance My Career Transition?   \n",
       "5          Tips for Women Beginning a Career in Tech   \n",
       "\n",
       "                                             content  \n",
       "0  Many do not realize that learning to code is m...  \n",
       "1  For many people, deciding between a coding boo...  \n",
       "2  Codeup is excited to launch our first Diversit...  \n",
       "3  Codeup has been named the 2022 Diversity and I...  \n",
       "4  Deciding to transition into a tech career is a...  \n",
       "5  Codeup strongly values diversity, and inclusio...  "
      ]
     },
     "execution_count": 24,
     "metadata": {},
     "output_type": "execute_result"
    }
   ],
   "source": [
    "codeup_df = wrangle.get_blog_articles()\n",
    "codeup_df"
   ]
  },
  {
   "cell_type": "markdown",
   "id": "0f621f9e",
   "metadata": {},
   "source": [
    "###### 8. For each dataframe, produce the following columns:\n",
    "- title to hold the title\n",
    "- original to hold the original article/post content\n",
    "- clean to hold the normalized and tokenized original with the stopwords removed.\n",
    "- stemmed to hold the stemmed version of the cleaned data.\n",
    "- lemmatized to hold the lemmatized version of the cleaned data."
   ]
  },
  {
   "cell_type": "markdown",
   "id": "e9bf33a7",
   "metadata": {},
   "source": [
    "#### news_df"
   ]
  },
  {
   "cell_type": "code",
   "execution_count": 25,
   "id": "d2c7dfcc",
   "metadata": {
    "scrolled": true
   },
   "outputs": [
    {
     "data": {
      "text/html": [
       "<div>\n",
       "<style scoped>\n",
       "    .dataframe tbody tr th:only-of-type {\n",
       "        vertical-align: middle;\n",
       "    }\n",
       "\n",
       "    .dataframe tbody tr th {\n",
       "        vertical-align: top;\n",
       "    }\n",
       "\n",
       "    .dataframe thead th {\n",
       "        text-align: right;\n",
       "    }\n",
       "</style>\n",
       "<table border=\"1\" class=\"dataframe\">\n",
       "  <thead>\n",
       "    <tr style=\"text-align: right;\">\n",
       "      <th></th>\n",
       "      <th>title</th>\n",
       "      <th>content</th>\n",
       "      <th>category</th>\n",
       "    </tr>\n",
       "  </thead>\n",
       "  <tbody>\n",
       "    <tr>\n",
       "      <th>0</th>\n",
       "      <td>Begin your revolutionary 5G journey with Airte...</td>\n",
       "      <td>Airtel announced that its 5G Plus services wil...</td>\n",
       "      <td>technology</td>\n",
       "    </tr>\n",
       "    <tr>\n",
       "      <th>1</th>\n",
       "      <td>WhatsApp services restored partially in some c...</td>\n",
       "      <td>Partial restoration of WhatsApp services appea...</td>\n",
       "      <td>technology</td>\n",
       "    </tr>\n",
       "    <tr>\n",
       "      <th>2</th>\n",
       "      <td>WhatsApp down for several users in India</td>\n",
       "      <td>Services of Meta-owned WhatsApp are reported t...</td>\n",
       "      <td>technology</td>\n",
       "    </tr>\n",
       "    <tr>\n",
       "      <th>3</th>\n",
       "      <td>Google fined ₹936 crore in India for anti-comp...</td>\n",
       "      <td>The Competition Commission of India (CCI) on T...</td>\n",
       "      <td>technology</td>\n",
       "    </tr>\n",
       "    <tr>\n",
       "      <th>4</th>\n",
       "      <td>Google CEO Pichai celebrates India's win over ...</td>\n",
       "      <td>Google and Alphabet's CEO Sundar Pichai on Mon...</td>\n",
       "      <td>technology</td>\n",
       "    </tr>\n",
       "    <tr>\n",
       "      <th>...</th>\n",
       "      <td>...</td>\n",
       "      <td>...</td>\n",
       "      <td>...</td>\n",
       "    </tr>\n",
       "    <tr>\n",
       "      <th>95</th>\n",
       "      <td>2 BJP leaders quit, file papers as independent...</td>\n",
       "      <td>BJP leaders Vipin Naihariya and Anil Choudhry ...</td>\n",
       "      <td>politics</td>\n",
       "    </tr>\n",
       "    <tr>\n",
       "      <th>96</th>\n",
       "      <td>K'taka government approves 11 projects to gene...</td>\n",
       "      <td>The Karnataka government has approved 11 devel...</td>\n",
       "      <td>politics</td>\n",
       "    </tr>\n",
       "    <tr>\n",
       "      <th>97</th>\n",
       "      <td>Acting as tool of RSS: Kerala CM on Guv seekin...</td>\n",
       "      <td>After Kerala Governor Arif Mohammed Khan sough...</td>\n",
       "      <td>politics</td>\n",
       "    </tr>\n",
       "    <tr>\n",
       "      <th>98</th>\n",
       "      <td>TMC leader shot inside Kali Puja pandal in Wes...</td>\n",
       "      <td>TMC youth leader Raj Pandey was shot by unknow...</td>\n",
       "      <td>politics</td>\n",
       "    </tr>\n",
       "    <tr>\n",
       "      <th>99</th>\n",
       "      <td>Farmers affected due to excessive rains to be ...</td>\n",
       "      <td>Maharashtra CM Eknath Shinde said he has given...</td>\n",
       "      <td>politics</td>\n",
       "    </tr>\n",
       "  </tbody>\n",
       "</table>\n",
       "<p>100 rows × 3 columns</p>\n",
       "</div>"
      ],
      "text/plain": [
       "                                                title  \\\n",
       "0   Begin your revolutionary 5G journey with Airte...   \n",
       "1   WhatsApp services restored partially in some c...   \n",
       "2            WhatsApp down for several users in India   \n",
       "3   Google fined ₹936 crore in India for anti-comp...   \n",
       "4   Google CEO Pichai celebrates India's win over ...   \n",
       "..                                                ...   \n",
       "95  2 BJP leaders quit, file papers as independent...   \n",
       "96  K'taka government approves 11 projects to gene...   \n",
       "97  Acting as tool of RSS: Kerala CM on Guv seekin...   \n",
       "98  TMC leader shot inside Kali Puja pandal in Wes...   \n",
       "99  Farmers affected due to excessive rains to be ...   \n",
       "\n",
       "                                              content    category  \n",
       "0   Airtel announced that its 5G Plus services wil...  technology  \n",
       "1   Partial restoration of WhatsApp services appea...  technology  \n",
       "2   Services of Meta-owned WhatsApp are reported t...  technology  \n",
       "3   The Competition Commission of India (CCI) on T...  technology  \n",
       "4   Google and Alphabet's CEO Sundar Pichai on Mon...  technology  \n",
       "..                                                ...         ...  \n",
       "95  BJP leaders Vipin Naihariya and Anil Choudhry ...    politics  \n",
       "96  The Karnataka government has approved 11 devel...    politics  \n",
       "97  After Kerala Governor Arif Mohammed Khan sough...    politics  \n",
       "98  TMC youth leader Raj Pandey was shot by unknow...    politics  \n",
       "99  Maharashtra CM Eknath Shinde said he has given...    politics  \n",
       "\n",
       "[100 rows x 3 columns]"
      ]
     },
     "execution_count": 25,
     "metadata": {},
     "output_type": "execute_result"
    }
   ],
   "source": [
    "news_df"
   ]
  },
  {
   "cell_type": "code",
   "execution_count": 29,
   "id": "f77cc3a6",
   "metadata": {},
   "outputs": [
    {
     "data": {
      "text/plain": [
       "'Begin your revolutionary 5G journey with Airtel 5G Plus: Airtel'"
      ]
     },
     "execution_count": 29,
     "metadata": {},
     "output_type": "execute_result"
    }
   ],
   "source": [
    "news_df.iloc[0].title"
   ]
  },
  {
   "cell_type": "code",
   "execution_count": 31,
   "id": "daaf6e5d",
   "metadata": {
    "scrolled": true
   },
   "outputs": [
    {
     "data": {
      "text/html": [
       "<div>\n",
       "<style scoped>\n",
       "    .dataframe tbody tr th:only-of-type {\n",
       "        vertical-align: middle;\n",
       "    }\n",
       "\n",
       "    .dataframe tbody tr th {\n",
       "        vertical-align: top;\n",
       "    }\n",
       "\n",
       "    .dataframe thead th {\n",
       "        text-align: right;\n",
       "    }\n",
       "</style>\n",
       "<table border=\"1\" class=\"dataframe\">\n",
       "  <thead>\n",
       "    <tr style=\"text-align: right;\">\n",
       "      <th></th>\n",
       "      <th>title</th>\n",
       "      <th>content</th>\n",
       "      <th>category</th>\n",
       "      <th>clean_text</th>\n",
       "    </tr>\n",
       "  </thead>\n",
       "  <tbody>\n",
       "    <tr>\n",
       "      <th>0</th>\n",
       "      <td>Begin your revolutionary 5G journey with Airte...</td>\n",
       "      <td>Airtel announced that its 5G Plus services wil...</td>\n",
       "      <td>technology</td>\n",
       "      <td>airtel announced that its 5g plus services wil...</td>\n",
       "    </tr>\n",
       "  </tbody>\n",
       "</table>\n",
       "</div>"
      ],
      "text/plain": [
       "                                               title  \\\n",
       "0  Begin your revolutionary 5G journey with Airte...   \n",
       "\n",
       "                                             content    category  \\\n",
       "0  Airtel announced that its 5G Plus services wil...  technology   \n",
       "\n",
       "                                          clean_text  \n",
       "0  airtel announced that its 5g plus services wil...  "
      ]
     },
     "execution_count": 31,
     "metadata": {},
     "output_type": "execute_result"
    }
   ],
   "source": [
    "news_df['clean_text'] = news_df.content.apply(basic_clean)\n",
    "news_df.head(1)"
   ]
  },
  {
   "cell_type": "code",
   "execution_count": 34,
   "id": "1e8747cf",
   "metadata": {},
   "outputs": [
    {
     "data": {
      "text/html": [
       "<div>\n",
       "<style scoped>\n",
       "    .dataframe tbody tr th:only-of-type {\n",
       "        vertical-align: middle;\n",
       "    }\n",
       "\n",
       "    .dataframe tbody tr th {\n",
       "        vertical-align: top;\n",
       "    }\n",
       "\n",
       "    .dataframe thead th {\n",
       "        text-align: right;\n",
       "    }\n",
       "</style>\n",
       "<table border=\"1\" class=\"dataframe\">\n",
       "  <thead>\n",
       "    <tr style=\"text-align: right;\">\n",
       "      <th></th>\n",
       "      <th>title</th>\n",
       "      <th>content</th>\n",
       "      <th>category</th>\n",
       "      <th>clean_text</th>\n",
       "      <th>lemmatized</th>\n",
       "    </tr>\n",
       "  </thead>\n",
       "  <tbody>\n",
       "    <tr>\n",
       "      <th>0</th>\n",
       "      <td>Begin your revolutionary 5G journey with Airte...</td>\n",
       "      <td>Airtel announced that its 5G Plus services wil...</td>\n",
       "      <td>technology</td>\n",
       "      <td>airtel announced that its 5g plus services wil...</td>\n",
       "      <td>[airtel, announced, 5g, plus, service, availab...</td>\n",
       "    </tr>\n",
       "  </tbody>\n",
       "</table>\n",
       "</div>"
      ],
      "text/plain": [
       "                                               title  \\\n",
       "0  Begin your revolutionary 5G journey with Airte...   \n",
       "\n",
       "                                             content    category  \\\n",
       "0  Airtel announced that its 5G Plus services wil...  technology   \n",
       "\n",
       "                                          clean_text  \\\n",
       "0  airtel announced that its 5g plus services wil...   \n",
       "\n",
       "                                          lemmatized  \n",
       "0  [airtel, announced, 5g, plus, service, availab...  "
      ]
     },
     "execution_count": 34,
     "metadata": {},
     "output_type": "execute_result"
    }
   ],
   "source": [
    "news_df['lemmatized'] = news_df.content.apply(wrangle.clean)\n",
    "news_df.head(1)"
   ]
  },
  {
   "cell_type": "code",
   "execution_count": 36,
   "id": "7da9111a",
   "metadata": {
    "scrolled": true
   },
   "outputs": [
    {
     "data": {
      "text/html": [
       "<div>\n",
       "<style scoped>\n",
       "    .dataframe tbody tr th:only-of-type {\n",
       "        vertical-align: middle;\n",
       "    }\n",
       "\n",
       "    .dataframe tbody tr th {\n",
       "        vertical-align: top;\n",
       "    }\n",
       "\n",
       "    .dataframe thead th {\n",
       "        text-align: right;\n",
       "    }\n",
       "</style>\n",
       "<table border=\"1\" class=\"dataframe\">\n",
       "  <thead>\n",
       "    <tr style=\"text-align: right;\">\n",
       "      <th></th>\n",
       "      <th>title</th>\n",
       "      <th>content</th>\n",
       "      <th>category</th>\n",
       "      <th>clean_text</th>\n",
       "      <th>lemmatized</th>\n",
       "      <th>stemmed</th>\n",
       "    </tr>\n",
       "  </thead>\n",
       "  <tbody>\n",
       "    <tr>\n",
       "      <th>0</th>\n",
       "      <td>Begin your revolutionary 5G journey with Airte...</td>\n",
       "      <td>Airtel announced that its 5G Plus services wil...</td>\n",
       "      <td>technology</td>\n",
       "      <td>airtel announced that its 5g plus services wil...</td>\n",
       "      <td>[airtel, announced, 5g, plus, service, availab...</td>\n",
       "      <td>airtel announc that it 5g plu servic will be a...</td>\n",
       "    </tr>\n",
       "  </tbody>\n",
       "</table>\n",
       "</div>"
      ],
      "text/plain": [
       "                                               title  \\\n",
       "0  Begin your revolutionary 5G journey with Airte...   \n",
       "\n",
       "                                             content    category  \\\n",
       "0  Airtel announced that its 5G Plus services wil...  technology   \n",
       "\n",
       "                                          clean_text  \\\n",
       "0  airtel announced that its 5g plus services wil...   \n",
       "\n",
       "                                          lemmatized  \\\n",
       "0  [airtel, announced, 5g, plus, service, availab...   \n",
       "\n",
       "                                             stemmed  \n",
       "0  airtel announc that it 5g plu servic will be a...  "
      ]
     },
     "execution_count": 36,
     "metadata": {},
     "output_type": "execute_result"
    }
   ],
   "source": [
    "news_df['stemmed'] = news_df.content.apply(stem)\n",
    "news_df.head(1)"
   ]
  },
  {
   "cell_type": "code",
   "execution_count": 37,
   "id": "cc34dc2c",
   "metadata": {},
   "outputs": [
    {
     "data": {
      "text/html": [
       "<div>\n",
       "<style scoped>\n",
       "    .dataframe tbody tr th:only-of-type {\n",
       "        vertical-align: middle;\n",
       "    }\n",
       "\n",
       "    .dataframe tbody tr th {\n",
       "        vertical-align: top;\n",
       "    }\n",
       "\n",
       "    .dataframe thead th {\n",
       "        text-align: right;\n",
       "    }\n",
       "</style>\n",
       "<table border=\"1\" class=\"dataframe\">\n",
       "  <thead>\n",
       "    <tr style=\"text-align: right;\">\n",
       "      <th></th>\n",
       "      <th>title</th>\n",
       "      <th>content</th>\n",
       "      <th>category</th>\n",
       "      <th>clean_text</th>\n",
       "      <th>lemmatized</th>\n",
       "      <th>stemmed</th>\n",
       "    </tr>\n",
       "  </thead>\n",
       "  <tbody>\n",
       "    <tr>\n",
       "      <th>0</th>\n",
       "      <td>Begin your revolutionary 5G journey with Airte...</td>\n",
       "      <td>Airtel announced that its 5G Plus services wil...</td>\n",
       "      <td>technology</td>\n",
       "      <td>airtel announced that its 5g plus services wil...</td>\n",
       "      <td>[airtel, announced, 5g, plus, service, availab...</td>\n",
       "      <td>airtel announc that it 5g plu servic will be a...</td>\n",
       "    </tr>\n",
       "    <tr>\n",
       "      <th>1</th>\n",
       "      <td>WhatsApp services restored partially in some c...</td>\n",
       "      <td>Partial restoration of WhatsApp services appea...</td>\n",
       "      <td>technology</td>\n",
       "      <td>partial restoration of whatsapp services appea...</td>\n",
       "      <td>[partial, restoration, whatsapp, service, appe...</td>\n",
       "      <td>partial restor of whatsapp servic appear to ha...</td>\n",
       "    </tr>\n",
       "    <tr>\n",
       "      <th>2</th>\n",
       "      <td>WhatsApp down for several users in India</td>\n",
       "      <td>Services of Meta-owned WhatsApp are reported t...</td>\n",
       "      <td>technology</td>\n",
       "      <td>services of metaowned whatsapp are reported to...</td>\n",
       "      <td>[service, metaowned, whatsapp, reported, sever...</td>\n",
       "      <td>servic of meta-own whatsapp are report to be d...</td>\n",
       "    </tr>\n",
       "    <tr>\n",
       "      <th>3</th>\n",
       "      <td>Google fined ₹936 crore in India for anti-comp...</td>\n",
       "      <td>The Competition Commission of India (CCI) on T...</td>\n",
       "      <td>technology</td>\n",
       "      <td>the competition commission of india cci on tue...</td>\n",
       "      <td>[competition, commission, india, cci, tuesday,...</td>\n",
       "      <td>the competit commiss of india (cci) on tuesday...</td>\n",
       "    </tr>\n",
       "    <tr>\n",
       "      <th>4</th>\n",
       "      <td>Google CEO Pichai celebrates India's win over ...</td>\n",
       "      <td>Google and Alphabet's CEO Sundar Pichai on Mon...</td>\n",
       "      <td>technology</td>\n",
       "      <td>google and alphabet's ceo sundar pichai on mon...</td>\n",
       "      <td>[google, alphabet, ceo, sundar, pichai, monday...</td>\n",
       "      <td>googl and alphabet' ceo sundar pichai on monda...</td>\n",
       "    </tr>\n",
       "    <tr>\n",
       "      <th>...</th>\n",
       "      <td>...</td>\n",
       "      <td>...</td>\n",
       "      <td>...</td>\n",
       "      <td>...</td>\n",
       "      <td>...</td>\n",
       "      <td>...</td>\n",
       "    </tr>\n",
       "    <tr>\n",
       "      <th>95</th>\n",
       "      <td>2 BJP leaders quit, file papers as independent...</td>\n",
       "      <td>BJP leaders Vipin Naihariya and Anil Choudhry ...</td>\n",
       "      <td>politics</td>\n",
       "      <td>bjp leaders vipin naihariya and anil choudhry ...</td>\n",
       "      <td>[bjp, leader, vipin, naihariya, anil, choudhry...</td>\n",
       "      <td>bjp leader vipin naihariya and anil choudhri h...</td>\n",
       "    </tr>\n",
       "    <tr>\n",
       "      <th>96</th>\n",
       "      <td>K'taka government approves 11 projects to gene...</td>\n",
       "      <td>The Karnataka government has approved 11 devel...</td>\n",
       "      <td>politics</td>\n",
       "      <td>the karnataka government has approved 11 devel...</td>\n",
       "      <td>[karnataka, government, approved, 11, developm...</td>\n",
       "      <td>the karnataka govern ha approv 11 develop proj...</td>\n",
       "    </tr>\n",
       "    <tr>\n",
       "      <th>97</th>\n",
       "      <td>Acting as tool of RSS: Kerala CM on Guv seekin...</td>\n",
       "      <td>After Kerala Governor Arif Mohammed Khan sough...</td>\n",
       "      <td>politics</td>\n",
       "      <td>after kerala governor arif mohammed khan sough...</td>\n",
       "      <td>[kerala, governor, arif, mohammed, khan, sough...</td>\n",
       "      <td>after kerala governor arif moham khan sought t...</td>\n",
       "    </tr>\n",
       "    <tr>\n",
       "      <th>98</th>\n",
       "      <td>TMC leader shot inside Kali Puja pandal in Wes...</td>\n",
       "      <td>TMC youth leader Raj Pandey was shot by unknow...</td>\n",
       "      <td>politics</td>\n",
       "      <td>tmc youth leader raj pandey was shot by unknow...</td>\n",
       "      <td>[tmc, youth, leader, raj, pandey, shot, unknow...</td>\n",
       "      <td>tmc youth leader raj pandey wa shot by unknown...</td>\n",
       "    </tr>\n",
       "    <tr>\n",
       "      <th>99</th>\n",
       "      <td>Farmers affected due to excessive rains to be ...</td>\n",
       "      <td>Maharashtra CM Eknath Shinde said he has given...</td>\n",
       "      <td>politics</td>\n",
       "      <td>maharashtra cm eknath shinde said he has given...</td>\n",
       "      <td>[maharashtra, cm, eknath, shinde, said, given,...</td>\n",
       "      <td>maharashtra cm eknath shind said he ha given d...</td>\n",
       "    </tr>\n",
       "  </tbody>\n",
       "</table>\n",
       "<p>100 rows × 6 columns</p>\n",
       "</div>"
      ],
      "text/plain": [
       "                                                title  \\\n",
       "0   Begin your revolutionary 5G journey with Airte...   \n",
       "1   WhatsApp services restored partially in some c...   \n",
       "2            WhatsApp down for several users in India   \n",
       "3   Google fined ₹936 crore in India for anti-comp...   \n",
       "4   Google CEO Pichai celebrates India's win over ...   \n",
       "..                                                ...   \n",
       "95  2 BJP leaders quit, file papers as independent...   \n",
       "96  K'taka government approves 11 projects to gene...   \n",
       "97  Acting as tool of RSS: Kerala CM on Guv seekin...   \n",
       "98  TMC leader shot inside Kali Puja pandal in Wes...   \n",
       "99  Farmers affected due to excessive rains to be ...   \n",
       "\n",
       "                                              content    category  \\\n",
       "0   Airtel announced that its 5G Plus services wil...  technology   \n",
       "1   Partial restoration of WhatsApp services appea...  technology   \n",
       "2   Services of Meta-owned WhatsApp are reported t...  technology   \n",
       "3   The Competition Commission of India (CCI) on T...  technology   \n",
       "4   Google and Alphabet's CEO Sundar Pichai on Mon...  technology   \n",
       "..                                                ...         ...   \n",
       "95  BJP leaders Vipin Naihariya and Anil Choudhry ...    politics   \n",
       "96  The Karnataka government has approved 11 devel...    politics   \n",
       "97  After Kerala Governor Arif Mohammed Khan sough...    politics   \n",
       "98  TMC youth leader Raj Pandey was shot by unknow...    politics   \n",
       "99  Maharashtra CM Eknath Shinde said he has given...    politics   \n",
       "\n",
       "                                           clean_text  \\\n",
       "0   airtel announced that its 5g plus services wil...   \n",
       "1   partial restoration of whatsapp services appea...   \n",
       "2   services of metaowned whatsapp are reported to...   \n",
       "3   the competition commission of india cci on tue...   \n",
       "4   google and alphabet's ceo sundar pichai on mon...   \n",
       "..                                                ...   \n",
       "95  bjp leaders vipin naihariya and anil choudhry ...   \n",
       "96  the karnataka government has approved 11 devel...   \n",
       "97  after kerala governor arif mohammed khan sough...   \n",
       "98  tmc youth leader raj pandey was shot by unknow...   \n",
       "99  maharashtra cm eknath shinde said he has given...   \n",
       "\n",
       "                                           lemmatized  \\\n",
       "0   [airtel, announced, 5g, plus, service, availab...   \n",
       "1   [partial, restoration, whatsapp, service, appe...   \n",
       "2   [service, metaowned, whatsapp, reported, sever...   \n",
       "3   [competition, commission, india, cci, tuesday,...   \n",
       "4   [google, alphabet, ceo, sundar, pichai, monday...   \n",
       "..                                                ...   \n",
       "95  [bjp, leader, vipin, naihariya, anil, choudhry...   \n",
       "96  [karnataka, government, approved, 11, developm...   \n",
       "97  [kerala, governor, arif, mohammed, khan, sough...   \n",
       "98  [tmc, youth, leader, raj, pandey, shot, unknow...   \n",
       "99  [maharashtra, cm, eknath, shinde, said, given,...   \n",
       "\n",
       "                                              stemmed  \n",
       "0   airtel announc that it 5g plu servic will be a...  \n",
       "1   partial restor of whatsapp servic appear to ha...  \n",
       "2   servic of meta-own whatsapp are report to be d...  \n",
       "3   the competit commiss of india (cci) on tuesday...  \n",
       "4   googl and alphabet' ceo sundar pichai on monda...  \n",
       "..                                                ...  \n",
       "95  bjp leader vipin naihariya and anil choudhri h...  \n",
       "96  the karnataka govern ha approv 11 develop proj...  \n",
       "97  after kerala governor arif moham khan sought t...  \n",
       "98  tmc youth leader raj pandey wa shot by unknown...  \n",
       "99  maharashtra cm eknath shind said he ha given d...  \n",
       "\n",
       "[100 rows x 6 columns]"
      ]
     },
     "execution_count": 37,
     "metadata": {},
     "output_type": "execute_result"
    }
   ],
   "source": [
    "news_df"
   ]
  },
  {
   "cell_type": "markdown",
   "id": "566f8627",
   "metadata": {},
   "source": [
    "#### Codeup_df"
   ]
  },
  {
   "cell_type": "code",
   "execution_count": 26,
   "id": "c4296e90",
   "metadata": {
    "scrolled": true
   },
   "outputs": [
    {
     "data": {
      "text/html": [
       "<div>\n",
       "<style scoped>\n",
       "    .dataframe tbody tr th:only-of-type {\n",
       "        vertical-align: middle;\n",
       "    }\n",
       "\n",
       "    .dataframe tbody tr th {\n",
       "        vertical-align: top;\n",
       "    }\n",
       "\n",
       "    .dataframe thead th {\n",
       "        text-align: right;\n",
       "    }\n",
       "</style>\n",
       "<table border=\"1\" class=\"dataframe\">\n",
       "  <thead>\n",
       "    <tr style=\"text-align: right;\">\n",
       "      <th></th>\n",
       "      <th>title</th>\n",
       "      <th>content</th>\n",
       "    </tr>\n",
       "  </thead>\n",
       "  <tbody>\n",
       "    <tr>\n",
       "      <th>0</th>\n",
       "      <td>Why Should You Learn to Code?</td>\n",
       "      <td>Many do not realize that learning to code is m...</td>\n",
       "    </tr>\n",
       "    <tr>\n",
       "      <th>1</th>\n",
       "      <td>Coding Bootcamp or Computer Science Degree?</td>\n",
       "      <td>For many people, deciding between a coding boo...</td>\n",
       "    </tr>\n",
       "    <tr>\n",
       "      <th>2</th>\n",
       "      <td>Diversity Equity and Inclusion Report</td>\n",
       "      <td>Codeup is excited to launch our first Diversit...</td>\n",
       "    </tr>\n",
       "    <tr>\n",
       "      <th>3</th>\n",
       "      <td>Codeup Honored as SABJ Diversity and Inclusion...</td>\n",
       "      <td>Codeup has been named the 2022 Diversity and I...</td>\n",
       "    </tr>\n",
       "    <tr>\n",
       "      <th>4</th>\n",
       "      <td>How Can I Finance My Career Transition?</td>\n",
       "      <td>Deciding to transition into a tech career is a...</td>\n",
       "    </tr>\n",
       "    <tr>\n",
       "      <th>5</th>\n",
       "      <td>Tips for Women Beginning a Career in Tech</td>\n",
       "      <td>Codeup strongly values diversity, and inclusio...</td>\n",
       "    </tr>\n",
       "  </tbody>\n",
       "</table>\n",
       "</div>"
      ],
      "text/plain": [
       "                                               title  \\\n",
       "0                      Why Should You Learn to Code?   \n",
       "1        Coding Bootcamp or Computer Science Degree?   \n",
       "2              Diversity Equity and Inclusion Report   \n",
       "3  Codeup Honored as SABJ Diversity and Inclusion...   \n",
       "4            How Can I Finance My Career Transition?   \n",
       "5          Tips for Women Beginning a Career in Tech   \n",
       "\n",
       "                                             content  \n",
       "0  Many do not realize that learning to code is m...  \n",
       "1  For many people, deciding between a coding boo...  \n",
       "2  Codeup is excited to launch our first Diversit...  \n",
       "3  Codeup has been named the 2022 Diversity and I...  \n",
       "4  Deciding to transition into a tech career is a...  \n",
       "5  Codeup strongly values diversity, and inclusio...  "
      ]
     },
     "execution_count": 26,
     "metadata": {},
     "output_type": "execute_result"
    }
   ],
   "source": [
    "codeup_df"
   ]
  },
  {
   "cell_type": "code",
   "execution_count": 38,
   "id": "3ec23c49",
   "metadata": {},
   "outputs": [
    {
     "data": {
      "text/html": [
       "<div>\n",
       "<style scoped>\n",
       "    .dataframe tbody tr th:only-of-type {\n",
       "        vertical-align: middle;\n",
       "    }\n",
       "\n",
       "    .dataframe tbody tr th {\n",
       "        vertical-align: top;\n",
       "    }\n",
       "\n",
       "    .dataframe thead th {\n",
       "        text-align: right;\n",
       "    }\n",
       "</style>\n",
       "<table border=\"1\" class=\"dataframe\">\n",
       "  <thead>\n",
       "    <tr style=\"text-align: right;\">\n",
       "      <th></th>\n",
       "      <th>title</th>\n",
       "      <th>content</th>\n",
       "      <th>clean_text</th>\n",
       "    </tr>\n",
       "  </thead>\n",
       "  <tbody>\n",
       "    <tr>\n",
       "      <th>0</th>\n",
       "      <td>Why Should You Learn to Code?</td>\n",
       "      <td>Many do not realize that learning to code is m...</td>\n",
       "      <td>many do not realize that learning to code is m...</td>\n",
       "    </tr>\n",
       "  </tbody>\n",
       "</table>\n",
       "</div>"
      ],
      "text/plain": [
       "                           title  \\\n",
       "0  Why Should You Learn to Code?   \n",
       "\n",
       "                                             content  \\\n",
       "0  Many do not realize that learning to code is m...   \n",
       "\n",
       "                                          clean_text  \n",
       "0  many do not realize that learning to code is m...  "
      ]
     },
     "execution_count": 38,
     "metadata": {},
     "output_type": "execute_result"
    }
   ],
   "source": [
    "codeup_df['clean_text'] = codeup_df.content.apply(basic_clean)\n",
    "codeup_df.head(1)"
   ]
  },
  {
   "cell_type": "code",
   "execution_count": 39,
   "id": "5106663e",
   "metadata": {},
   "outputs": [
    {
     "data": {
      "text/html": [
       "<div>\n",
       "<style scoped>\n",
       "    .dataframe tbody tr th:only-of-type {\n",
       "        vertical-align: middle;\n",
       "    }\n",
       "\n",
       "    .dataframe tbody tr th {\n",
       "        vertical-align: top;\n",
       "    }\n",
       "\n",
       "    .dataframe thead th {\n",
       "        text-align: right;\n",
       "    }\n",
       "</style>\n",
       "<table border=\"1\" class=\"dataframe\">\n",
       "  <thead>\n",
       "    <tr style=\"text-align: right;\">\n",
       "      <th></th>\n",
       "      <th>title</th>\n",
       "      <th>content</th>\n",
       "      <th>clean_text</th>\n",
       "      <th>lemmatized</th>\n",
       "    </tr>\n",
       "  </thead>\n",
       "  <tbody>\n",
       "    <tr>\n",
       "      <th>0</th>\n",
       "      <td>Why Should You Learn to Code?</td>\n",
       "      <td>Many do not realize that learning to code is m...</td>\n",
       "      <td>many do not realize that learning to code is m...</td>\n",
       "      <td>[many, realize, learning, code, potential, car...</td>\n",
       "    </tr>\n",
       "  </tbody>\n",
       "</table>\n",
       "</div>"
      ],
      "text/plain": [
       "                           title  \\\n",
       "0  Why Should You Learn to Code?   \n",
       "\n",
       "                                             content  \\\n",
       "0  Many do not realize that learning to code is m...   \n",
       "\n",
       "                                          clean_text  \\\n",
       "0  many do not realize that learning to code is m...   \n",
       "\n",
       "                                          lemmatized  \n",
       "0  [many, realize, learning, code, potential, car...  "
      ]
     },
     "execution_count": 39,
     "metadata": {},
     "output_type": "execute_result"
    }
   ],
   "source": [
    "codeup_df['lemmatized'] = codeup_df.content.apply(wrangle.clean)\n",
    "codeup_df.head(1)"
   ]
  },
  {
   "cell_type": "code",
   "execution_count": 40,
   "id": "933d1a90",
   "metadata": {
    "scrolled": true
   },
   "outputs": [
    {
     "data": {
      "text/html": [
       "<div>\n",
       "<style scoped>\n",
       "    .dataframe tbody tr th:only-of-type {\n",
       "        vertical-align: middle;\n",
       "    }\n",
       "\n",
       "    .dataframe tbody tr th {\n",
       "        vertical-align: top;\n",
       "    }\n",
       "\n",
       "    .dataframe thead th {\n",
       "        text-align: right;\n",
       "    }\n",
       "</style>\n",
       "<table border=\"1\" class=\"dataframe\">\n",
       "  <thead>\n",
       "    <tr style=\"text-align: right;\">\n",
       "      <th></th>\n",
       "      <th>title</th>\n",
       "      <th>content</th>\n",
       "      <th>clean_text</th>\n",
       "      <th>lemmatized</th>\n",
       "      <th>stemmed</th>\n",
       "    </tr>\n",
       "  </thead>\n",
       "  <tbody>\n",
       "    <tr>\n",
       "      <th>0</th>\n",
       "      <td>Why Should You Learn to Code?</td>\n",
       "      <td>Many do not realize that learning to code is m...</td>\n",
       "      <td>many do not realize that learning to code is m...</td>\n",
       "      <td>[many, realize, learning, code, potential, car...</td>\n",
       "      <td>mani do not realiz that learn to code is more ...</td>\n",
       "    </tr>\n",
       "  </tbody>\n",
       "</table>\n",
       "</div>"
      ],
      "text/plain": [
       "                           title  \\\n",
       "0  Why Should You Learn to Code?   \n",
       "\n",
       "                                             content  \\\n",
       "0  Many do not realize that learning to code is m...   \n",
       "\n",
       "                                          clean_text  \\\n",
       "0  many do not realize that learning to code is m...   \n",
       "\n",
       "                                          lemmatized  \\\n",
       "0  [many, realize, learning, code, potential, car...   \n",
       "\n",
       "                                             stemmed  \n",
       "0  mani do not realiz that learn to code is more ...  "
      ]
     },
     "execution_count": 40,
     "metadata": {},
     "output_type": "execute_result"
    }
   ],
   "source": [
    "codeup_df['stemmed'] = codeup_df.content.apply(stem)\n",
    "codeup_df.head(1)"
   ]
  },
  {
   "cell_type": "code",
   "execution_count": 41,
   "id": "e80466b7",
   "metadata": {},
   "outputs": [
    {
     "data": {
      "text/html": [
       "<div>\n",
       "<style scoped>\n",
       "    .dataframe tbody tr th:only-of-type {\n",
       "        vertical-align: middle;\n",
       "    }\n",
       "\n",
       "    .dataframe tbody tr th {\n",
       "        vertical-align: top;\n",
       "    }\n",
       "\n",
       "    .dataframe thead th {\n",
       "        text-align: right;\n",
       "    }\n",
       "</style>\n",
       "<table border=\"1\" class=\"dataframe\">\n",
       "  <thead>\n",
       "    <tr style=\"text-align: right;\">\n",
       "      <th></th>\n",
       "      <th>title</th>\n",
       "      <th>content</th>\n",
       "      <th>clean_text</th>\n",
       "      <th>lemmatized</th>\n",
       "      <th>stemmed</th>\n",
       "    </tr>\n",
       "  </thead>\n",
       "  <tbody>\n",
       "    <tr>\n",
       "      <th>0</th>\n",
       "      <td>Why Should You Learn to Code?</td>\n",
       "      <td>Many do not realize that learning to code is m...</td>\n",
       "      <td>many do not realize that learning to code is m...</td>\n",
       "      <td>[many, realize, learning, code, potential, car...</td>\n",
       "      <td>mani do not realiz that learn to code is more ...</td>\n",
       "    </tr>\n",
       "    <tr>\n",
       "      <th>1</th>\n",
       "      <td>Coding Bootcamp or Computer Science Degree?</td>\n",
       "      <td>For many people, deciding between a coding boo...</td>\n",
       "      <td>for many people deciding between a coding boot...</td>\n",
       "      <td>[many, people, deciding, coding, bootcamp, com...</td>\n",
       "      <td>for mani people, decid between a code bootcamp...</td>\n",
       "    </tr>\n",
       "    <tr>\n",
       "      <th>2</th>\n",
       "      <td>Diversity Equity and Inclusion Report</td>\n",
       "      <td>Codeup is excited to launch our first Diversit...</td>\n",
       "      <td>codeup is excited to launch our first diversit...</td>\n",
       "      <td>[codeup, excited, launch, first, diversity, eq...</td>\n",
       "      <td>codeup is excit to launch our first divers equ...</td>\n",
       "    </tr>\n",
       "    <tr>\n",
       "      <th>3</th>\n",
       "      <td>Codeup Honored as SABJ Diversity and Inclusion...</td>\n",
       "      <td>Codeup has been named the 2022 Diversity and I...</td>\n",
       "      <td>codeup has been named the 2022 diversity and i...</td>\n",
       "      <td>[codeup, named, 2022, diversity, inclusion, aw...</td>\n",
       "      <td>codeup ha been name the 2022 divers and inclus...</td>\n",
       "    </tr>\n",
       "    <tr>\n",
       "      <th>4</th>\n",
       "      <td>How Can I Finance My Career Transition?</td>\n",
       "      <td>Deciding to transition into a tech career is a...</td>\n",
       "      <td>deciding to transition into a tech career is a...</td>\n",
       "      <td>[deciding, transition, tech, career, big, step...</td>\n",
       "      <td>decid to transit into a tech career is a big s...</td>\n",
       "    </tr>\n",
       "    <tr>\n",
       "      <th>5</th>\n",
       "      <td>Tips for Women Beginning a Career in Tech</td>\n",
       "      <td>Codeup strongly values diversity, and inclusio...</td>\n",
       "      <td>codeup strongly values diversity and inclusion...</td>\n",
       "      <td>[codeup, strongly, value, diversity, inclusion...</td>\n",
       "      <td>codeup strongli valu diversity, and inclusion....</td>\n",
       "    </tr>\n",
       "  </tbody>\n",
       "</table>\n",
       "</div>"
      ],
      "text/plain": [
       "                                               title  \\\n",
       "0                      Why Should You Learn to Code?   \n",
       "1        Coding Bootcamp or Computer Science Degree?   \n",
       "2              Diversity Equity and Inclusion Report   \n",
       "3  Codeup Honored as SABJ Diversity and Inclusion...   \n",
       "4            How Can I Finance My Career Transition?   \n",
       "5          Tips for Women Beginning a Career in Tech   \n",
       "\n",
       "                                             content  \\\n",
       "0  Many do not realize that learning to code is m...   \n",
       "1  For many people, deciding between a coding boo...   \n",
       "2  Codeup is excited to launch our first Diversit...   \n",
       "3  Codeup has been named the 2022 Diversity and I...   \n",
       "4  Deciding to transition into a tech career is a...   \n",
       "5  Codeup strongly values diversity, and inclusio...   \n",
       "\n",
       "                                          clean_text  \\\n",
       "0  many do not realize that learning to code is m...   \n",
       "1  for many people deciding between a coding boot...   \n",
       "2  codeup is excited to launch our first diversit...   \n",
       "3  codeup has been named the 2022 diversity and i...   \n",
       "4  deciding to transition into a tech career is a...   \n",
       "5  codeup strongly values diversity and inclusion...   \n",
       "\n",
       "                                          lemmatized  \\\n",
       "0  [many, realize, learning, code, potential, car...   \n",
       "1  [many, people, deciding, coding, bootcamp, com...   \n",
       "2  [codeup, excited, launch, first, diversity, eq...   \n",
       "3  [codeup, named, 2022, diversity, inclusion, aw...   \n",
       "4  [deciding, transition, tech, career, big, step...   \n",
       "5  [codeup, strongly, value, diversity, inclusion...   \n",
       "\n",
       "                                             stemmed  \n",
       "0  mani do not realiz that learn to code is more ...  \n",
       "1  for mani people, decid between a code bootcamp...  \n",
       "2  codeup is excit to launch our first divers equ...  \n",
       "3  codeup ha been name the 2022 divers and inclus...  \n",
       "4  decid to transit into a tech career is a big s...  \n",
       "5  codeup strongli valu diversity, and inclusion....  "
      ]
     },
     "execution_count": 41,
     "metadata": {},
     "output_type": "execute_result"
    }
   ],
   "source": [
    "codeup_df"
   ]
  },
  {
   "cell_type": "markdown",
   "id": "66f43fef",
   "metadata": {},
   "source": [
    "###### 9. Ask yourself:\n",
    "- If your corpus is 493KB, would you prefer to use stemmed or lemmatized text?\n",
    "- If your corpus is 25MB, would you prefer to use stemmed or lemmatized text?\n",
    "- If your corpus is 200TB of text and you're charged by the megabyte for your hosted computational resources, would you prefer to use stemmed or lemmatized text?"
   ]
  },
  {
   "cell_type": "markdown",
   "id": "a6dd9e5b",
   "metadata": {},
   "source": [
    "1. Lemmatized\n",
    "\n",
    "2. Stemmed\n",
    "\n",
    "3. Stemmed"
   ]
  }
 ],
 "metadata": {
  "kernelspec": {
   "display_name": "Python 3 (ipykernel)",
   "language": "python",
   "name": "python3"
  },
  "language_info": {
   "codemirror_mode": {
    "name": "ipython",
    "version": 3
   },
   "file_extension": ".py",
   "mimetype": "text/x-python",
   "name": "python",
   "nbconvert_exporter": "python",
   "pygments_lexer": "ipython3",
   "version": "3.9.12"
  }
 },
 "nbformat": 4,
 "nbformat_minor": 5
}
